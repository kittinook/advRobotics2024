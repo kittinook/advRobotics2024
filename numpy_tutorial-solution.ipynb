{
 "cells": [
  {
   "cell_type": "markdown",
   "metadata": {},
   "source": [
    "# Introduction to Scientific Python (cme193)"
   ]
  },
  {
   "cell_type": "markdown",
   "metadata": {},
   "source": [
    "- Fundamental package for scientific computing with Python\n",
    "- N-dimensional array object\n",
    "- Linear algebra, Fourier transform, random number capabilities\n",
    "- Building block for other packages (e.g. Scipy)\n",
    "- Open source"
   ]
  },
  {
   "cell_type": "code",
   "execution_count": 1,
   "metadata": {},
   "outputs": [
    {
     "name": "stdout",
     "output_type": "stream",
     "text": [
      "Defaulting to user installation because normal site-packages is not writeable\n",
      "Requirement already satisfied: numpy in /home/kittinook/.local/lib/python3.10/site-packages (1.26.4)\n",
      "Defaulting to user installation because normal site-packages is not writeable\n",
      "Requirement already satisfied: matplotlib in /usr/lib/python3/dist-packages (3.5.1)\n"
     ]
    }
   ],
   "source": [
    "!pip install numpy\n",
    "!pip install matplotlib"
   ]
  },
  {
   "cell_type": "code",
   "execution_count": 2,
   "metadata": {},
   "outputs": [
    {
     "name": "stdout",
     "output_type": "stream",
     "text": [
      "A >> \n",
      " [[1 2 3]\n",
      " [4 5 6]]\n",
      "Af >> \n",
      " [1. 2. 3.]\n"
     ]
    }
   ],
   "source": [
    "import numpy as np\n",
    "A = np.array([[1, 2, 3], [4, 5, 6]])\n",
    "print(\"A >> \\n\",A)\n",
    "# [[1 2 3]\n",
    "# [4 5 6]]\n",
    "Af = np.array([1, 2, 3], float)\n",
    "print(\"Af >> \\n\",Af)"
   ]
  },
  {
   "cell_type": "code",
   "execution_count": 3,
   "metadata": {},
   "outputs": [
    {
     "data": {
      "text/plain": [
       "(2, 3)"
      ]
     },
     "execution_count": 3,
     "metadata": {},
     "output_type": "execute_result"
    }
   ],
   "source": [
    "np.arange(0, 1, 0.2)\n",
    "# array([ 0. , 0.2, 0.4, 0.6, 0.8])\n",
    "np.linspace(0, 2*np.pi, 4)\n",
    "# array([ 0.0, 2.09, 4.18, 6.28])\n",
    "A = np.zeros((2,3))\n",
    "# array([[ 0., 0., 0.],\n",
    "# [ 0., 0., 0.]])\n",
    "# np.ones, np.diag\n",
    "A.shape\n",
    "# (2, 3)"
   ]
  },
  {
   "cell_type": "code",
   "execution_count": 4,
   "metadata": {},
   "outputs": [],
   "source": [
    "np.random.random((2,3))\n",
    "# array([[ 0.78084261, 0.64328818, 0.55380341],\n",
    "# [ 0.24611092, 0.37011213, 0.83313416]])\n",
    "a = np.random.normal(loc=1.0, scale=2.0, size=(2,2))\n",
    "# array([[ 2.87799514, 0.6284259 ],\n",
    "# [ 3.10683164, 2.05324587]])\n",
    "np.savetxt(\"a_out.txt\", a)\n",
    "# save to file\n",
    "b = np.loadtxt(\"a_out.txt\")"
   ]
  },
  {
   "cell_type": "code",
   "execution_count": 5,
   "metadata": {},
   "outputs": [
    {
     "name": "stdout",
     "output_type": "stream",
     "text": [
      "[[1. 0.]\n",
      " [0. 0.]]\n"
     ]
    }
   ],
   "source": [
    "A = np.zeros((2, 2))\n",
    "# array([[ 0., 0.],\n",
    "# [ 0., 0.]])\n",
    "C = A\n",
    "C[0, 0] = 1\n",
    "print(A)\n",
    "# [[ 1. 0.]\n",
    "# [ 0. 0.]]"
   ]
  },
  {
   "cell_type": "code",
   "execution_count": 6,
   "metadata": {},
   "outputs": [
    {
     "data": {
      "text/plain": [
       "dtype('int64')"
      ]
     },
     "execution_count": 6,
     "metadata": {},
     "output_type": "execute_result"
    }
   ],
   "source": [
    "a = np.arange(10).reshape((2,5))\n",
    "a.ndim # 2 dimension\n",
    "a.shape # (2, 5) shape of array\n",
    "a.size # 10 # of elements\n",
    "a.T # transpose\n",
    "a.dtype # data type"
   ]
  },
  {
   "cell_type": "code",
   "execution_count": 7,
   "metadata": {},
   "outputs": [
    {
     "data": {
      "text/plain": [
       "array([ 0,  3,  8, 15])"
      ]
     },
     "execution_count": 7,
     "metadata": {},
     "output_type": "execute_result"
    }
   ],
   "source": [
    "a = np.arange(4)\n",
    "# array([0, 1, 2, 3])\n",
    "b = np.array([2, 3, 2, 4])\n",
    "a * b # array([ 0, 3, 4, 12])\n",
    "b - a # array([2, 2, 0, 1])\n",
    "c = [2, 3, 4, 5]\n",
    "a * c # array([ 0, 3, 8, 15])"
   ]
  },
  {
   "cell_type": "markdown",
   "metadata": {},
   "source": [
    "# Array broadcasting with scalars"
   ]
  },
  {
   "cell_type": "code",
   "execution_count": 14,
   "metadata": {},
   "outputs": [
    {
     "name": "stdout",
     "output_type": "stream",
     "text": [
      "[[2. 2. 2.]\n",
      " [2. 2. 2.]\n",
      " [2. 2. 2.]]\n"
     ]
    }
   ],
   "source": [
    "A = np.ones((3,3))\n",
    "print (3 * A - 1)\n",
    "# [[ 2. 2. 2.]\n",
    "# [ 2. 2. 2.]\n",
    "# [ 2. 2. 2.]]"
   ]
  },
  {
   "cell_type": "markdown",
   "metadata": {},
   "source": [
    "# Vector operations\n",
    "\n",
    "- inner product\n",
    "- outer product\n",
    "- dot product (matrix multiplication)"
   ]
  },
  {
   "cell_type": "code",
   "execution_count": 15,
   "metadata": {},
   "outputs": [
    {
     "data": {
      "text/plain": [
       "6"
      ]
     },
     "execution_count": 15,
     "metadata": {},
     "output_type": "execute_result"
    }
   ],
   "source": [
    "# note: numpy automatically converts lists\n",
    "u = [1, 2, 3]\n",
    "v = [1, 1, 1]\n",
    "np.inner(u, v)\n",
    "# 6\n",
    "np.outer(u, v)\n",
    "# array([[1, 1, 1],\n",
    "# [2, 2, 2],\n",
    "# [3, 3, 3]])\n",
    "np.dot(u, v)"
   ]
  },
  {
   "cell_type": "markdown",
   "metadata": {},
   "source": [
    "# Matrix operations"
   ]
  },
  {
   "cell_type": "code",
   "execution_count": 17,
   "metadata": {},
   "outputs": [],
   "source": [
    "A = np.ones((3, 2))\n",
    "# array([[ 1., 1.],\n",
    "# [ 1., 1.],\n",
    "# [ 1., 1.]])\n",
    "A.T\n",
    "# array([[ 1., 1., 1.],\n",
    "# [ 1., 1., 1.]])\n",
    "B = np.ones((2, 3))\n",
    "# array([[ 1., 1., 1.],\n",
    "# [ 1., 1., 1.]])"
   ]
  },
  {
   "cell_type": "code",
   "execution_count": 19,
   "metadata": {},
   "outputs": [
    {
     "data": {
      "text/plain": [
       "array([[2., 2., 2.],\n",
       "       [2., 2., 2.],\n",
       "       [2., 2., 2.]])"
      ]
     },
     "execution_count": 19,
     "metadata": {},
     "output_type": "execute_result"
    }
   ],
   "source": [
    "np.dot(A, B)\n",
    "# array([[ 2., 2., 2.],\n",
    "# [ 2., 2., 2.],\n",
    "# [ 2., 2., 2.]])\n",
    "np.dot(B, A)\n",
    "# array([[ 3., 3.],\n",
    "# [ 3., 3.]])\n",
    "np.dot(B.T, A.T)\n",
    "# array([[ 2., 2., 2.],\n",
    "# [ 2., 2., 2.],\n",
    "# [ 2., 2., 2.]])\n",
    "\n",
    "# np.dot(A, B.T)\n",
    "# # Traceback (most recent call last):\n",
    "# # File \"<stdin>\", line 1, in <module>\n",
    "# # ValueError: shapes (3,2) and (3,2) not aligned: ...\n",
    "# # ... 2 (dim 1) != 3 (dim 0)"
   ]
  },
  {
   "cell_type": "markdown",
   "metadata": {},
   "source": [
    "# Operations along axes"
   ]
  },
  {
   "cell_type": "code",
   "execution_count": 20,
   "metadata": {},
   "outputs": [
    {
     "data": {
      "text/plain": [
       "array([0.55101423, 0.54846303, 0.69976254])"
      ]
     },
     "execution_count": 20,
     "metadata": {},
     "output_type": "execute_result"
    }
   ],
   "source": [
    "a = np.random.random((2,3))\n",
    "# array([[ 0.9190687 , 0.36497813, 0.75644216],\n",
    "# [ 0.91938241, 0.08599547, 0.49544003]])\n",
    "a.sum()\n",
    "# 3.5413068994445549\n",
    "a.sum(axis=0) # column sum\n",
    "# array([ 1.83845111, 0.4509736 , 1.25188219])\n",
    "a.cumsum()\n",
    "# array([ 0.9190687 , 1.28404683, 2.04048899, 2.9598714 ,\n",
    "# 3.04586687, 3.5413069 ])\n",
    "a.cumsum(axis=1) # cumulative row sum\n",
    "# array([[ 0.9190687 , 1.28404683, 2.04048899],\n",
    "# [ 0.91938241, 1.00537788, 1.50081791]])\n",
    "a.min()\n",
    "# 0.0859954690403677\n",
    "a.max(axis=0)\n",
    "# array([ 0.91938241, 0.36497813, 0.75644216])"
   ]
  },
  {
   "cell_type": "markdown",
   "metadata": {},
   "source": [
    "# Slicing arrays\n",
    "\n",
    "More advanced slicing"
   ]
  },
  {
   "cell_type": "code",
   "execution_count": 27,
   "metadata": {},
   "outputs": [
    {
     "data": {
      "text/plain": [
       "array([[0.87424066, 0.47880458],\n",
       "       [0.53265365, 0.0373356 ],\n",
       "       [0.33019807, 0.94826066],\n",
       "       [0.3553727 , 0.53114367]])"
      ]
     },
     "execution_count": 27,
     "metadata": {},
     "output_type": "execute_result"
    }
   ],
   "source": [
    "a = np.random.random((4,5))\n",
    "a[2, :]\n",
    "# third row, all columns\n",
    "a[1:3]\n",
    "# 2nd, 3rd row, all columns\n",
    "a[:, 2:4]\n",
    "# all rows, columns 3 and 4"
   ]
  },
  {
   "cell_type": "markdown",
   "metadata": {},
   "source": [
    "# Matrix operationsWhat is Matplotlib?\n",
    "\n",
    "- Plotting library for Python\n",
    "- Works well with Numpy\n",
    "- Syntax similar to Matlab"
   ]
  },
  {
   "cell_type": "code",
   "execution_count": 28,
   "metadata": {},
   "outputs": [
    {
     "data": {
      "image/png": "[encoded data removed]",
      "text/plain": [
       "<Figure size 640x480 with 1 Axes>"
      ]
     },
     "metadata": {},
     "output_type": "display_data"
    }
   ],
   "source": [
    "# Scatter Plot\n",
    "import numpy as np\n",
    "import matplotlib . pyplot as plt\n",
    "x = np. linspace (0, 10, 1000)\n",
    "y = np. power(x, 2)\n",
    "plt. plot (x, y)\n",
    "plt.show()"
   ]
  },
  {
   "cell_type": "code",
   "execution_count": 42,
   "metadata": {},
   "outputs": [
    {
     "data": {
      "image/png": "[encoded data removed]",
      "text/plain": [
       "<Figure size 500x400 with 1 Axes>"
      ]
     },
     "metadata": {},
     "output_type": "display_data"
    }
   ],
   "source": [
    "import numpy as np\n",
    "import matplotlib.pyplot as plt\n",
    "\n",
    "f, ax = plt.subplots(1, 1, figsize=(5,4))\n",
    "x = np.linspace(0, 10, 1000)\n",
    "y = np.power(x, 2)\n",
    "ax.plot(x, y)\n",
    "ax.set_xlim((1, 5))\n",
    "ax.set_ylim((0, 30))\n",
    "ax.set_xlabel(\"my x label\")\n",
    "ax.set_ylabel(\"my y label\")\n",
    "ax.set_title(\"plot title, including $\\Omega$\")\n",
    "plt.tight_layout()\n",
    "plt.savefig(\"line_plot_plus.pdf\")"
   ]
  },
  {
   "cell_type": "markdown",
   "metadata": {},
   "source": [
    "# Scatter Plot\n",
    "\n",
    "Adding multiple lines and a legend"
   ]
  },
  {
   "cell_type": "code",
   "execution_count": 49,
   "metadata": {},
   "outputs": [
    {
     "data": {
      "image/png": "[encoded data removed]",
      "text/plain": [
       "<Figure size 640x480 with 1 Axes>"
      ]
     },
     "metadata": {},
     "output_type": "display_data"
    }
   ],
   "source": [
    "x = np.linspace (0, 10, 50)\n",
    "y1 = np.power(x, 2)\n",
    "y2 = np.power(x, 3)\n",
    "plt.plot (x, y1, \"r--\", label=\"$x^2$\")\n",
    "plt.plot (x, y2, \"go\" , label=\"$x^3$\")\n",
    "plt.xlim ((1 , 5))\n",
    "plt.ylim ((0 , 30))\n",
    "plt.xlabel( \"my x label \")\n",
    "plt.ylabel( \"my y label \")\n",
    "plt.title( \" plot t i t l e , including $\\Omega$\")\n",
    "plt.legend()\n",
    "plt.savefig(\"line_plot_plus2.pdf\")"
   ]
  },
  {
   "cell_type": "markdown",
   "metadata": {},
   "source": [
    "# Histogram"
   ]
  },
  {
   "cell_type": "code",
   "execution_count": 61,
   "metadata": {},
   "outputs": [
    {
     "data": {
      "image/png": "[encoded data removed]",
      "text/plain": [
       "<Figure size 600x300 with 2 Axes>"
      ]
     },
     "metadata": {},
     "output_type": "display_data"
    }
   ],
   "source": [
    "data = np. random. randn(1000)\n",
    "f , (ax1, ax2) = plt.subplots(1, 2, figsize =(6,3))\n",
    "# histogram (pdf)\n",
    "ax1.hist(data , bins=30)\n",
    "# empirical cdf\n",
    "ax2.hist(data , bins=30, cumulative=True)\n",
    "plt.savefig(\"histogram.pdf\")"
   ]
  },
  {
   "cell_type": "markdown",
   "metadata": {},
   "source": [
    "Box Plot"
   ]
  },
  {
   "cell_type": "code",
   "execution_count": 68,
   "metadata": {},
   "outputs": [
    {
     "data": {
      "image/png": "[encoded data removed]",
      "text/plain": [
       "<Figure size 500x400 with 1 Axes>"
      ]
     },
     "metadata": {},
     "output_type": "display_data"
    }
   ],
   "source": [
    "samp1 = np.random.normal(loc=0., scale=1., size=100)\n",
    "samp2 = np.random.normal(loc=1., scale=2., size=100)\n",
    "samp3 = np.random.normal(loc=0.3, scale=1.2, size=100)\n",
    "f, ax = plt.subplots(1, 1, figsize=(5,4))\n",
    "ax.boxplot((samp1, samp2, samp3))\n",
    "ax.set_xticklabels([\"sample 1\", \"sample 2\", \"sample 3\"])\n",
    "plt.savefig(\"boxplot.pdf\")"
   ]
  },
  {
   "cell_type": "markdown",
   "metadata": {},
   "source": [
    "# Transformation Matrix"
   ]
  },
  {
   "cell_type": "code",
   "execution_count": 76,
   "metadata": {},
   "outputs": [
    {
     "name": "stderr",
     "output_type": "stream",
     "text": [
      "No artists with labels found to put in legend.  Note that artists whose label start with an underscore are ignored when legend() is called with no argument.\n"
     ]
    },
    {
     "data": {
      "image/png": "[encoded data removed]",
      "text/plain": [
       "<Figure size 640x480 with 1 Axes>"
      ]
     },
     "metadata": {},
     "output_type": "display_data"
    }
   ],
   "source": [
    "import numpy as np\n",
    "import matplotlib.pyplot as plt\n",
    "\n",
    "# Function to plot a coordinate frame given a transformation matrix\n",
    "def plot_frame(ax, transformation_matrix, colors, label, frame_name):\n",
    "    # Define the original coordinate frame\n",
    "    origin = np.array([0, 0])\n",
    "    x_axis = np.array([1, 0])\n",
    "    y_axis = np.array([0, 1])\n",
    "\n",
    "    # Apply the transformation to the coordinate frame\n",
    "    transformed_origin = transformation_matrix[:2, 2]\n",
    "    transformed_x_axis = transformation_matrix[:2, :2].dot(x_axis)\n",
    "    transformed_y_axis = transformation_matrix[:2, :2].dot(y_axis)\n",
    "\n",
    "    # Plot the coordinate frame\n",
    "    ax.quiver(transformed_origin[0], transformed_origin[1], transformed_x_axis[0], transformed_x_axis[1], color=colors[0], scale=10)\n",
    "    ax.quiver(transformed_origin[0], transformed_origin[1], transformed_y_axis[0], transformed_y_axis[1], color=colors[1], scale=10)\n",
    "\n",
    "    # Add frame name\n",
    "    ax.text(transformed_origin[0], transformed_origin[1], frame_name, color='black', fontsize=12, ha='right')\n",
    "\n",
    "# Example transformation matrix: a rotation of 45 degrees and a translation of (2, 3)\n",
    "theta = np.radians(45)\n",
    "cos_theta = np.cos(theta)\n",
    "sin_theta = np.sin(theta)\n",
    "\n",
    "transformation_matrix = np.array([\n",
    "    [cos_theta, -sin_theta, 2],\n",
    "    [sin_theta, cos_theta, 3],\n",
    "    [0, 0, 1]\n",
    "])\n",
    "\n",
    "# Plot the original and transformed coordinate frames\n",
    "fig, ax = plt.subplots()\n",
    "\n",
    "# Original coordinate frame\n",
    "identity_matrix = np.eye(3)\n",
    "plot_frame(ax, identity_matrix, ['red', 'green'], 'Original', 'A')\n",
    "\n",
    "# Transformed coordinate frame\n",
    "plot_frame(ax, transformation_matrix, ['red', 'green'], 'Transformed', 'B')\n",
    "\n",
    "# Set plot labels and limits\n",
    "ax.set_xlabel('X')\n",
    "ax.set_ylabel('Y')\n",
    "ax.set_xlim([-1, 5])\n",
    "ax.set_ylim([-1, 5])\n",
    "ax.legend()\n",
    "\n",
    "plt.title(\"Original and Transformed Coordinate Frames\")\n",
    "plt.grid(True)\n",
    "plt.axhline(0, color='black', linewidth=0.5)\n",
    "plt.axvline(0, color='black', linewidth=0.5)\n",
    "plt.show()\n"
   ]
  },
  {
   "cell_type": "markdown",
   "metadata": {},
   "source": [
    "# Exercises\n",
    "\n",
    "จงคำนวณค่าของการเคลื่อนที่ตำแหน่งของเฟรมดังต่อไปนี้\n",
    "\n",
    "โดยที่\n",
    "1. สร้างฟังก์ชันสำหรับการคำนวณ Rotation Matrix ในแนวแกน z\n",
    "2. สร้างฟังก์ชันสำหรับการคำนวณ Translation Matrix ในแนวแกน x และ y\n",
    "3. สร้างฟังก์ชันสำหรับการคำนวณ Transformation การเคลื่อนที่แบบ 2 มิติในระนาบ\n",
    "4. ทำการ Plot และแสดงผล\n"
   ]
  },
  {
   "cell_type": "code",
   "execution_count": 64,
   "metadata": {},
   "outputs": [
    {
     "name": "stdout",
     "output_type": "stream",
     "text": [
      "[[ 0.70710678 -0.70710678  0.          0.5       ]\n",
      " [ 0.70710678  0.70710678  0.          0.        ]\n",
      " [ 0.          0.          1.          0.        ]\n",
      " [ 0.          0.          0.          1.        ]]\n"
     ]
    },
    {
     "data": {
      "image/png": "[encoded data removed]",
      "text/plain": [
       "<Figure size 640x480 with 1 Axes>"
      ]
     },
     "metadata": {},
     "output_type": "display_data"
    }
   ],
   "source": [
    "import numpy as np\n",
    "import matplotlib.pyplot as plt\n",
    "import math\n",
    "\n",
    "# Function to plot a coordinate frame given a transformation matrix\n",
    "def plot_frame(ax, transformation_matrix, colors, frame_name):\n",
    "    # Define the original coordinate frame\n",
    "    origin = np.array([0, 0])\n",
    "    x_axis = np.array([1, 0])\n",
    "    y_axis = np.array([0, 1])\n",
    "\n",
    "    # Apply the transformation to the coordinate frame\n",
    "    transformed_origin = transformation_matrix[:2, 3]\n",
    "    transformed_x_axis = transformation_matrix[:2, :2].dot(x_axis)\n",
    "    transformed_y_axis = transformation_matrix[:2, :2].dot(y_axis)\n",
    "\n",
    "    # Plot the coordinate frame\n",
    "    ax.quiver(transformed_origin[0], transformed_origin[1], transformed_x_axis[0], transformed_x_axis[1], color=colors[0], scale=10)\n",
    "    ax.quiver(transformed_origin[0], transformed_origin[1], transformed_y_axis[0], transformed_y_axis[1], color=colors[1], scale=10)\n",
    "\n",
    "    # Add frame name\n",
    "    ax.text(transformed_origin[0], transformed_origin[1], frame_name, color='black', fontsize=12, ha='right')\n",
    "\n",
    "def rot_z(rz):\n",
    "    R = np.identity(4)\n",
    "    R[0,0] = math.cos(rz)\n",
    "    R[0,1] = -math.sin(rz)\n",
    "    R[1,0] = math.sin(rz)\n",
    "    R[1,1] = math.cos(rz)\n",
    "    R[2,2] = 1\n",
    "    return R\n",
    "    # print(R)\n",
    "\n",
    "def trans_xy(x, y):\n",
    "    p = np.identity(4)\n",
    "    p[0,3] = x\n",
    "    p[1,3] = y\n",
    "    p[2,3] = 0\n",
    "    return p\n",
    "    # print(p)\n",
    "\n",
    "def transformation_xy(R, p):\n",
    "    T = np.identity(4)\n",
    "    T[:3, :3] = R[:3, :3]\n",
    "    T[:3, 3] = p[:3, 3]\n",
    "    return T\n",
    "\n",
    "def deg2rad(deg):\n",
    "    return deg * math.pi / 180.0\n",
    "\n",
    "def rad2deg(rad):\n",
    "    return rad * 180 / math.pi\n",
    "\n",
    "# Plot the original and transformed coordinate frames\n",
    "fig, ax = plt.subplots()\n",
    "\n",
    "# Original coordinate frame\n",
    "identity_matrix = np.eye(4)\n",
    "R_01 = rot_z(deg2rad(45))\n",
    "d_01 = trans_xy(0.5,0)\n",
    "T_01 = transformation_xy(R_01, d_01)\n",
    "\n",
    "R_12 = rot_z(deg2rad(50))\n",
    "d_12 = trans_xy(0.5,0.5)\n",
    "T_12 = transformation_xy(R_12, d_12)\n",
    "\n",
    "R_23 = rot_z(deg2rad(45))\n",
    "d_23 = trans_xy(0.1,0.1)\n",
    "T_23 = transformation_xy(R_23, d_23)\n",
    "\n",
    "T_02 = T_01 @ T_12\n",
    "T_03 = T_01 @ T_12 @ T_23\n",
    "\n",
    "# Plot.\n",
    "plot_frame(ax, identity_matrix, ['red', 'green'], 'T_01')\n",
    "plot_frame(ax, T_01, ['red', 'green'], 'T_01')\n",
    "plot_frame(ax, T_02, ['red', 'green'], 'T_02')\n",
    "plot_frame(ax, T_03, ['red', 'green'], 'T_03')\n",
    "print(T_01)"
   ]
  },
  {
   "cell_type": "markdown",
   "metadata": {},
   "source": [
    "### Functions\n",
    "\n",
    "Python functions are defined using the `def` keyword. For example:"
   ]
  },
  {
   "cell_type": "code",
   "execution_count": 65,
   "metadata": {},
   "outputs": [
    {
     "name": "stdout",
     "output_type": "stream",
     "text": [
      "negative\n",
      "zero\n",
      "positive\n"
     ]
    }
   ],
   "source": [
    "def sign(x):\n",
    "    if x > 0:\n",
    "        return 'positive'\n",
    "    elif x < 0:\n",
    "        return 'negative'\n",
    "    else:\n",
    "        return 'zero'\n",
    "\n",
    "for x in [-1, 0, 1]:\n",
    "    print(sign(x))"
   ]
  },
  {
   "cell_type": "markdown",
   "metadata": {},
   "source": [
    "We will often define functions to take optional keyword arguments, like this:"
   ]
  },
  {
   "cell_type": "code",
   "execution_count": 66,
   "metadata": {},
   "outputs": [
    {
     "name": "stdout",
     "output_type": "stream",
     "text": [
      "Hello, Bob!\n",
      "HELLO, FRED\n"
     ]
    }
   ],
   "source": [
    "def hello(name, loud=False):\n",
    "    if loud:\n",
    "        print('HELLO, {}'.format(name.upper()))\n",
    "    else:\n",
    "        print('Hello, {}!'.format(name))\n",
    "\n",
    "hello('Bob')\n",
    "hello('Fred', loud=True)"
   ]
  },
  {
   "cell_type": "markdown",
   "metadata": {},
   "source": [
    "### Classes\n",
    "\n",
    "The syntax for defining classes in Python is straightforward:"
   ]
  },
  {
   "cell_type": "code",
   "execution_count": 69,
   "metadata": {},
   "outputs": [
    {
     "name": "stdout",
     "output_type": "stream",
     "text": [
      "Hello, Som!\n",
      "HELLO, SOM\n",
      "Hello, Nook!\n",
      "HELLO, NOOK\n"
     ]
    }
   ],
   "source": [
    "class Greeter:\n",
    "\n",
    "  # Constructor\n",
    "  def __init__(self, name):\n",
    "      self.name = name  # Create an instance variable\n",
    "\n",
    "  # Instance method\n",
    "  def greet(self, upper=False):\n",
    "      if upper:\n",
    "        print('HELLO, {}'.format(self.name.upper()))\n",
    "      else:\n",
    "        print('Hello, {}!'.format(self.name))\n",
    "\n",
    "g1 = Greeter('Som')  # Construct an instance of the Greeter class\n",
    "g2 = Greeter('Nook')\n",
    "g1.greet()            # Call an instance method; prints \"Hello, Som\"\n",
    "g1.greet(upper=True)   # Call an instance method; prints \"HELLO, SOM!\"\n",
    "g2.greet()            # Call an instance method; prints \"Hello, Nook\"\n",
    "g2.greet(upper=True)   # Call an instance method; prints \"HELLO, NOOK!\""
   ]
  },
  {
   "cell_type": "markdown",
   "metadata": {},
   "source": []
  }
 ],
 "metadata": {
  "kernelspec": {
   "display_name": "Python 3",
   "language": "python",
   "name": "python3"
  },
  "language_info": {
   "codemirror_mode": {
    "name": "ipython",
    "version": 3
   },
   "file_extension": ".py",
   "mimetype": "text/x-python",
   "name": "python",
   "nbconvert_exporter": "python",
   "pygments_lexer": "ipython3",
   "version": "3.10.12"
  },
  "orig_nbformat": 4
 },
 "nbformat": 4,
 "nbformat_minor": 2
}
