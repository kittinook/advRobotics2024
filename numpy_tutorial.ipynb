{
 "cells": [
  {
   "cell_type": "markdown",
   "metadata": {},
   "source": [
    "# Introduction to Scientific Python (cme193)"
   ]
  },
  {
   "cell_type": "markdown",
   "metadata": {},
   "source": [
    "- Fundamental package for scientific computing with Python\n",
    "- N-dimensional array object\n",
    "- Linear algebra, Fourier transform, random number capabilities\n",
    "- Building block for other packages (e.g. Scipy)\n",
    "- Open source"
   ]
  },
  {
   "cell_type": "code",
   "execution_count": 1,
   "metadata": {},
   "outputs": [
    {
     "name": "stdout",
     "output_type": "stream",
     "text": [
      "Defaulting to user installation because normal site-packages is not writeable\n",
      "Requirement already satisfied: numpy in /home/kittinook/.local/lib/python3.10/site-packages (1.26.4)\n",
      "Defaulting to user installation because normal site-packages is not writeable\n",
      "Requirement already satisfied: matplotlib in /usr/lib/python3/dist-packages (3.5.1)\n"
     ]
    }
   ],
   "source": [
    "!pip install numpy\n",
    "!pip install matplotlib"
   ]
  },
  {
   "cell_type": "code",
   "execution_count": 2,
   "metadata": {},
   "outputs": [],
   "source": [
    "import numpy as np\n"
   ]
  },
  {
   "cell_type": "code",
   "execution_count": 3,
   "metadata": {},
   "outputs": [
    {
     "data": {
      "text/plain": [
       "array([0. , 0.2, 0.4, 0.6, 0.8])"
      ]
     },
     "execution_count": 3,
     "metadata": {},
     "output_type": "execute_result"
    }
   ],
   "source": [
    "np.arange(0, 1, 0.2)\n",
    "# array([ 0. , 0.2, 0.4, 0.6, 0.8])\n"
   ]
  },
  {
   "cell_type": "code",
   "execution_count": null,
   "metadata": {},
   "outputs": [],
   "source": []
  },
  {
   "cell_type": "code",
   "execution_count": null,
   "metadata": {},
   "outputs": [],
   "source": []
  },
  {
   "cell_type": "code",
   "execution_count": null,
   "metadata": {},
   "outputs": [],
   "source": []
  },
  {
   "cell_type": "code",
   "execution_count": null,
   "metadata": {},
   "outputs": [],
   "source": []
  },
  {
   "cell_type": "markdown",
   "metadata": {},
   "source": [
    "# Array broadcasting with scalars"
   ]
  },
  {
   "cell_type": "code",
   "execution_count": null,
   "metadata": {},
   "outputs": [],
   "source": []
  },
  {
   "cell_type": "markdown",
   "metadata": {},
   "source": [
    "# Vector operations\n",
    "\n",
    "- inner product\n",
    "- outer product\n",
    "- dot product (matrix multiplication)"
   ]
  },
  {
   "cell_type": "code",
   "execution_count": null,
   "metadata": {},
   "outputs": [],
   "source": []
  },
  {
   "cell_type": "markdown",
   "metadata": {},
   "source": [
    "# Matrix operations"
   ]
  },
  {
   "cell_type": "code",
   "execution_count": null,
   "metadata": {},
   "outputs": [],
   "source": []
  },
  {
   "cell_type": "code",
   "execution_count": null,
   "metadata": {},
   "outputs": [],
   "source": []
  },
  {
   "cell_type": "markdown",
   "metadata": {},
   "source": [
    "# Operations along axes"
   ]
  },
  {
   "cell_type": "code",
   "execution_count": null,
   "metadata": {},
   "outputs": [],
   "source": []
  },
  {
   "cell_type": "markdown",
   "metadata": {},
   "source": [
    "# Slicing arrays\n",
    "\n",
    "More advanced slicing"
   ]
  },
  {
   "cell_type": "code",
   "execution_count": null,
   "metadata": {},
   "outputs": [],
   "source": []
  },
  {
   "cell_type": "markdown",
   "metadata": {},
   "source": [
    "# Matrix operationsWhat is Matplotlib?\n",
    "\n",
    "- Plotting library for Python\n",
    "- Works well with Numpy\n",
    "- Syntax similar to Matlab"
   ]
  },
  {
   "cell_type": "code",
   "execution_count": null,
   "metadata": {},
   "outputs": [],
   "source": []
  },
  {
   "cell_type": "code",
   "execution_count": null,
   "metadata": {},
   "outputs": [],
   "source": []
  },
  {
   "cell_type": "markdown",
   "metadata": {},
   "source": [
    "# Scatter Plot\n",
    "\n",
    "Adding multiple lines and a legend"
   ]
  },
  {
   "cell_type": "code",
   "execution_count": null,
   "metadata": {},
   "outputs": [],
   "source": []
  },
  {
   "cell_type": "markdown",
   "metadata": {},
   "source": [
    "# Histogram"
   ]
  },
  {
   "cell_type": "code",
   "execution_count": null,
   "metadata": {},
   "outputs": [],
   "source": []
  },
  {
   "cell_type": "markdown",
   "metadata": {},
   "source": [
    "Box Plot"
   ]
  },
  {
   "cell_type": "code",
   "execution_count": null,
   "metadata": {},
   "outputs": [],
   "source": []
  },
  {
   "cell_type": "markdown",
   "metadata": {},
   "source": [
    "# Transformation Matrix"
   ]
  },
  {
   "cell_type": "code",
   "execution_count": 4,
   "metadata": {},
   "outputs": [
    {
     "name": "stderr",
     "output_type": "stream",
     "text": [
      "No artists with labels found to put in legend.  Note that artists whose label start with an underscore are ignored when legend() is called with no argument.\n"
     ]
    },
    {
     "data": {
      "image/png": "[encoded data removed]",
      "text/plain": [
       "<Figure size 640x480 with 1 Axes>"
      ]
     },
     "metadata": {},
     "output_type": "display_data"
    }
   ],
   "source": [
    "import numpy as np\n",
    "import matplotlib.pyplot as plt\n",
    "\n",
    "# Function to plot a coordinate frame given a transformation matrix\n",
    "def plot_frame(ax, transformation_matrix, colors, label, frame_name):\n",
    "    # Define the original coordinate frame\n",
    "    origin = np.array([0, 0])\n",
    "    x_axis = np.array([1, 0])\n",
    "    y_axis = np.array([0, 1])\n",
    "\n",
    "    # Apply the transformation to the coordinate frame\n",
    "    transformed_origin = transformation_matrix[:2, 2]\n",
    "    transformed_x_axis = transformation_matrix[:2, :2].dot(x_axis)\n",
    "    transformed_y_axis = transformation_matrix[:2, :2].dot(y_axis)\n",
    "\n",
    "    # Plot the coordinate frame\n",
    "    ax.quiver(transformed_origin[0], transformed_origin[1], transformed_x_axis[0], transformed_x_axis[1], color=colors[0], scale=10)\n",
    "    ax.quiver(transformed_origin[0], transformed_origin[1], transformed_y_axis[0], transformed_y_axis[1], color=colors[1], scale=10)\n",
    "\n",
    "    # Add frame name\n",
    "    ax.text(transformed_origin[0], transformed_origin[1], frame_name, color='black', fontsize=12, ha='right')\n",
    "\n",
    "# Example transformation matrix: a rotation of 45 degrees and a translation of (2, 3)\n",
    "theta = np.radians(45)\n",
    "cos_theta = np.cos(theta)\n",
    "sin_theta = np.sin(theta)\n",
    "\n",
    "transformation_matrix = np.array([\n",
    "    [cos_theta, -sin_theta, 2],\n",
    "    [sin_theta, cos_theta, 3],\n",
    "    [0, 0, 1]\n",
    "])\n",
    "\n",
    "# Plot the original and transformed coordinate frames\n",
    "fig, ax = plt.subplots()\n",
    "\n",
    "# Original coordinate frame\n",
    "identity_matrix = np.eye(3)\n",
    "plot_frame(ax, identity_matrix, ['red', 'green'], 'Original', 'A')\n",
    "\n",
    "# Transformed coordinate frame\n",
    "plot_frame(ax, transformation_matrix, ['red', 'green'], 'Transformed', 'B')\n",
    "\n",
    "# Set plot labels and limits\n",
    "ax.set_xlabel('X')\n",
    "ax.set_ylabel('Y')\n",
    "ax.set_xlim([-1, 5])\n",
    "ax.set_ylim([-1, 5])\n",
    "ax.legend()\n",
    "\n",
    "plt.title(\"Original and Transformed Coordinate Frames\")\n",
    "plt.grid(True)\n",
    "plt.axhline(0, color='black', linewidth=0.5)\n",
    "plt.axvline(0, color='black', linewidth=0.5)\n",
    "plt.show()\n"
   ]
  },
  {
   "cell_type": "markdown",
   "metadata": {},
   "source": [
    "# Exercises\n",
    "\n",
    "จงคำนวณค่าของการเคลื่อนที่ตำแหน่งของเฟรมดังต่อไปนี้\n",
    "\n",
    "โดยที่\n",
    "1. สร้างฟังก์ชันสำหรับการคำนวณ Rotation Matrix ในแนวแกน z\n",
    "2. สร้างฟังก์ชันสำหรับการคำนวณ Translation Matrix ในแนวแกน x และ y\n",
    "3. สร้างฟังก์ชันสำหรับการคำนวณ Transformation การเคลื่อนที่แบบ 2 มิติในระนาบ\n",
    "4. ทำการ Plot และแสดงผล\n"
   ]
  },
  {
   "cell_type": "code",
   "execution_count": 5,
   "metadata": {},
   "outputs": [
    {
     "data": {
      "image/png": "[encoded data removed]",
      "text/plain": [
       "<Figure size 640x480 with 1 Axes>"
      ]
     },
     "metadata": {},
     "output_type": "display_data"
    }
   ],
   "source": [
    "import numpy as np\n",
    "import matplotlib.pyplot as plt\n",
    "import math\n",
    "\n",
    "# Function to plot a coordinate frame given a transformation matrix\n",
    "def plot_frame(ax, transformation_matrix, colors, frame_name):\n",
    "    # Define the original coordinate frame\n",
    "    origin = np.array([0, 0])\n",
    "    x_axis = np.array([1, 0])\n",
    "    y_axis = np.array([0, 1])\n",
    "\n",
    "    # Apply the transformation to the coordinate frame\n",
    "    transformed_origin = transformation_matrix[:2, 3]\n",
    "    transformed_x_axis = transformation_matrix[:2, :2].dot(x_axis)\n",
    "    transformed_y_axis = transformation_matrix[:2, :2].dot(y_axis)\n",
    "\n",
    "    # Plot the coordinate frame\n",
    "    ax.quiver(transformed_origin[0], transformed_origin[1], transformed_x_axis[0], transformed_x_axis[1], color=colors[0], scale=10)\n",
    "    ax.quiver(transformed_origin[0], transformed_origin[1], transformed_y_axis[0], transformed_y_axis[1], color=colors[1], scale=10)\n",
    "\n",
    "    # Add frame name\n",
    "    ax.text(transformed_origin[0], transformed_origin[1], frame_name, color='black', fontsize=12, ha='right')\n",
    "\n",
    "def rot_z(rz):\n",
    "    pass\n",
    "\n",
    "def trans_xy(x, y):\n",
    "    pass\n",
    "\n",
    "def transformation_xy(R, p):\n",
    "    pass\n",
    "\n",
    "def deg2rad(deg):\n",
    "    return deg * math.pi / 180.0\n",
    "\n",
    "def rad2deg(rad):\n",
    "    return rad * 180 / math.pi\n",
    "\n",
    "# Plot the original and transformed coordinate frames\n",
    "fig, ax = plt.subplots()\n",
    "\n",
    "# Original coordinate frame\n",
    "identity_matrix = np.eye(4)\n"
   ]
  },
  {
   "cell_type": "markdown",
   "metadata": {},
   "source": [
    "### Functions\n",
    "\n",
    "Python functions are defined using the `def` keyword. For example:"
   ]
  },
  {
   "cell_type": "code",
   "execution_count": 6,
   "metadata": {},
   "outputs": [
    {
     "name": "stdout",
     "output_type": "stream",
     "text": [
      "negative\n",
      "zero\n",
      "positive\n"
     ]
    }
   ],
   "source": [
    "def sign(x):\n",
    "    if x > 0:\n",
    "        return 'positive'\n",
    "    elif x < 0:\n",
    "        return 'negative'\n",
    "    else:\n",
    "        return 'zero'\n",
    "\n",
    "for x in [-1, 0, 1]:\n",
    "    print(sign(x))"
   ]
  },
  {
   "cell_type": "markdown",
   "metadata": {},
   "source": [
    "We will often define functions to take optional keyword arguments, like this:"
   ]
  },
  {
   "cell_type": "code",
   "execution_count": 7,
   "metadata": {},
   "outputs": [
    {
     "name": "stdout",
     "output_type": "stream",
     "text": [
      "Hello, Bob!\n",
      "HELLO, FRED\n"
     ]
    }
   ],
   "source": [
    "def hello(name, loud=False):\n",
    "    if loud:\n",
    "        print('HELLO, {}'.format(name.upper()))\n",
    "    else:\n",
    "        print('Hello, {}!'.format(name))\n",
    "\n",
    "hello('Bob')\n",
    "hello('Fred', loud=True)"
   ]
  },
  {
   "cell_type": "markdown",
   "metadata": {},
   "source": [
    "### Classes\n",
    "\n",
    "The syntax for defining classes in Python is straightforward:"
   ]
  },
  {
   "cell_type": "code",
   "execution_count": 8,
   "metadata": {},
   "outputs": [
    {
     "name": "stdout",
     "output_type": "stream",
     "text": [
      "Hello, Som!\n",
      "HELLO, SOM\n",
      "Hello, Nook!\n",
      "HELLO, NOOK\n"
     ]
    }
   ],
   "source": [
    "class Greeter:\n",
    "\n",
    "  # Constructor\n",
    "  def __init__(self, name):\n",
    "      self.name = name  # Create an instance variable\n",
    "\n",
    "  # Instance method\n",
    "  def greet(self, upper=False):\n",
    "      if upper:\n",
    "        print('HELLO, {}'.format(self.name.upper()))\n",
    "      else:\n",
    "        print('Hello, {}!'.format(self.name))\n",
    "\n",
    "g1 = Greeter('Som')  # Construct an instance of the Greeter class\n",
    "g2 = Greeter('Nook')\n",
    "g1.greet()            # Call an instance method; prints \"Hello, Som\"\n",
    "g1.greet(upper=True)   # Call an instance method; prints \"HELLO, SOM!\"\n",
    "g2.greet()            # Call an instance method; prints \"Hello, Nook\"\n",
    "g2.greet(upper=True)   # Call an instance method; prints \"HELLO, NOOK!\""
   ]
  },
  {
   "cell_type": "markdown",
   "metadata": {},
   "source": []
  }
 ],
 "metadata": {
  "kernelspec": {
   "display_name": "Python 3",
   "language": "python",
   "name": "python3"
  },
  "language_info": {
   "codemirror_mode": {
    "name": "ipython",
    "version": 3
   },
   "file_extension": ".py",
   "mimetype": "text/x-python",
   "name": "python",
   "nbconvert_exporter": "python",
   "pygments_lexer": "ipython3",
   "version": "3.10.12"
  },
  "orig_nbformat": 4
 },
 "nbformat": 4,
 "nbformat_minor": 2
}
